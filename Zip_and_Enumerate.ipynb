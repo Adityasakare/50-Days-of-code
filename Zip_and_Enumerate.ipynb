{
  "nbformat": 4,
  "nbformat_minor": 0,
  "metadata": {
    "colab": {
      "name": "Zip and Enumerate.ipynb",
      "provenance": []
    },
    "kernelspec": {
      "name": "python3",
      "display_name": "Python 3"
    }
  },
  "cells": [
    {
      "cell_type": "code",
      "metadata": {
        "id": "vLwdAacnxmHG",
        "colab_type": "code",
        "colab": {
          "base_uri": "https://localhost:8080/",
          "height": 510
        },
        "outputId": "e4cd30e8-285a-4404-d603-7489dd0bd877"
      },
      "source": [
        "manifest = [(\"bananas\", 15), (\"mattresses\", 24), (\"dog kennels\", 42), (\"machine\", 120), (\"cheeses\", 5)]\n",
        "\n",
        "# the code breaks the loop when weight exceeds or reaches the limit\n",
        "print(\"METHOD 1\")\n",
        "weight = 0\n",
        "items = []\n",
        "for cargo_name, cargo_weight in manifest:\n",
        "    print(\"current weight: {}\".format(weight))\n",
        "    if weight >= 100:\n",
        "        print(\"  breaking loop now!\")\n",
        "        break\n",
        "    else:\n",
        "        print(\"  adding {} ({})\".format(cargo_name, cargo_weight))\n",
        "        items.append(cargo_name)\n",
        "        weight += cargo_weight\n",
        "\n",
        "print(\"\\nFinal Weight: {}\".format(weight))\n",
        "print(\"Final Items: {}\".format(items))\n",
        "\n",
        "# skips an iteration when adding an item would exceed the limit\n",
        "# breaks the loop if weight is exactly the value of the limit\n",
        "print(\"\\nMETHOD 2\")\n",
        "weight = 0\n",
        "items = []\n",
        "for cargo_name, cargo_weight in manifest:\n",
        "    print(\"current weight: {}\".format(weight))\n",
        "    if weight >= 100:\n",
        "        print(\"  breaking from the loop now!\")\n",
        "        break\n",
        "    elif weight + cargo_weight > 100:\n",
        "        print(\"  skipping {} ({})\".format(cargo_name, cargo_weight))\n",
        "        continue\n",
        "    else:\n",
        "        print(\"  adding {} ({})\".format(cargo_name, cargo_weight))\n",
        "        items.append(cargo_name)\n",
        "        weight += cargo_weight\n",
        "\n",
        "print(\"\\nFinal Weight: {}\".format(weight))\n",
        "print(\"Final Items: {}\".format(items))"
      ],
      "execution_count": 1,
      "outputs": [
        {
          "output_type": "stream",
          "text": [
            "METHOD 1\n",
            "current weight: 0\n",
            "  adding bananas (15)\n",
            "current weight: 15\n",
            "  adding mattresses (24)\n",
            "current weight: 39\n",
            "  adding dog kennels (42)\n",
            "current weight: 81\n",
            "  adding machine (120)\n",
            "current weight: 201\n",
            "  breaking loop now!\n",
            "\n",
            "Final Weight: 201\n",
            "Final Items: ['bananas', 'mattresses', 'dog kennels', 'machine']\n",
            "\n",
            "METHOD 2\n",
            "current weight: 0\n",
            "  adding bananas (15)\n",
            "current weight: 15\n",
            "  adding mattresses (24)\n",
            "current weight: 39\n",
            "  adding dog kennels (42)\n",
            "current weight: 81\n",
            "  skipping machine (120)\n",
            "current weight: 81\n",
            "  adding cheeses (5)\n",
            "\n",
            "Final Weight: 86\n",
            "Final Items: ['bananas', 'mattresses', 'dog kennels', 'cheeses']\n"
          ],
          "name": "stdout"
        }
      ]
    },
    {
      "cell_type": "code",
      "metadata": {
        "id": "kqGbCu80xvyT",
        "colab_type": "code",
        "colab": {
          "base_uri": "https://localhost:8080/",
          "height": 54
        },
        "outputId": "cb94321f-8ad4-4995-a19f-2f6bf64102f6"
      },
      "source": [
        "headlines = [\"Local Bear Eaten by Man\",\n",
        "             \"Legislature Announces New Laws\",\n",
        "             \"Peasant Discovers Violence Inherent in System\",\n",
        "             \"Cat Rescues Fireman Stuck in Tree\",\n",
        "             \"Brave Knight Runs Away\",\n",
        "             \"Papperbok Review: Totally Triffic\"]\n",
        "\n",
        "news_ticker = \"\"\n",
        "for headline in headlines:\n",
        "    news_ticker += headline + \" \"\n",
        "    if len(news_ticker) >= 140:\n",
        "        news_ticker = news_ticker[:140]\n",
        "        break\n",
        "\n",
        "print(news_ticker)"
      ],
      "execution_count": 3,
      "outputs": [
        {
          "output_type": "stream",
          "text": [
            "Local Bear Eaten by Man Legislature Announces New Laws Peasant Discovers Violence Inherent in System Cat Rescues Fireman Stuck in Tree Brave Knight Runs Away Papperbok Review: Totally Triffic \n"
          ],
          "name": "stdout"
        }
      ]
    },
    {
      "cell_type": "code",
      "metadata": {
        "id": "snmUJnyAMRpb",
        "colab_type": "code",
        "colab": {
          "base_uri": "https://localhost:8080/",
          "height": 136
        },
        "outputId": "5153dd89-c011-4382-c07b-e34babd04700"
      },
      "source": [
        "check_prime = [26, 39, 51, 53, 57, 79, 85]\n",
        "\n",
        "# iterate through the check_prime list\n",
        "for num in check_prime:\n",
        "\n",
        "# search for factors, iterating through numbers ranging from 2 to the number itself\n",
        "    for i in range(2, num):\n",
        "\n",
        "# number is not prime if modulo is 0\n",
        "        if (num % i) == 0:\n",
        "            print(\"{} is NOT a prime number, because {} is a factor of {}\".format(num, i, num))\n",
        "            break\n",
        "\n",
        "# otherwise keep checking until we've searched all possible factors, and then declare it prime\n",
        "        if i == num -1:    \n",
        "            print(\"{} IS a prime number\".format(num))"
      ],
      "execution_count": 4,
      "outputs": [
        {
          "output_type": "stream",
          "text": [
            "26 is NOT a prime number, because 2 is a factor of 26\n",
            "39 is NOT a prime number, because 3 is a factor of 39\n",
            "51 is NOT a prime number, because 3 is a factor of 51\n",
            "53 IS a prime number\n",
            "57 is NOT a prime number, because 3 is a factor of 57\n",
            "79 IS a prime number\n",
            "85 is NOT a prime number, because 5 is a factor of 85\n"
          ],
          "name": "stdout"
        }
      ]
    },
    {
      "cell_type": "markdown",
      "metadata": {
        "id": "JzVuSfHUally",
        "colab_type": "text"
      },
      "source": [
        "ZIP AND ENUMARATE"
      ]
    },
    {
      "cell_type": "code",
      "metadata": {
        "id": "FvoSezp6YUxk",
        "colab_type": "code",
        "colab": {
          "base_uri": "https://localhost:8080/",
          "height": 85
        },
        "outputId": "b78f37fb-426f-4d14-9574-b67b9ad0ecc2"
      },
      "source": [
        "L = ['a','d','i','t','y']\n",
        "N = [0,1,2,3]\n",
        "\n",
        "for L , N in zip(L,N):\n",
        "  print(N,L)"
      ],
      "execution_count": 10,
      "outputs": [
        {
          "output_type": "stream",
          "text": [
            "0 a\n",
            "1 d\n",
            "2 i\n",
            "3 t\n"
          ],
          "name": "stdout"
        }
      ]
    },
    {
      "cell_type": "code",
      "metadata": {
        "id": "Vs6WivPAa5Vh",
        "colab_type": "code",
        "colab": {
          "base_uri": "https://localhost:8080/",
          "height": 102
        },
        "outputId": "60e5847c-3a2a-460e-eee6-c68e9d275798"
      },
      "source": [
        "L = ['a','d','i','t','y']\n",
        "for i, L in enumerate (L):\n",
        "  print(i,L)"
      ],
      "execution_count": 14,
      "outputs": [
        {
          "output_type": "stream",
          "text": [
            "0 a\n",
            "1 d\n",
            "2 i\n",
            "3 t\n",
            "4 y\n"
          ],
          "name": "stdout"
        }
      ]
    },
    {
      "cell_type": "markdown",
      "metadata": {
        "id": "o9XV2pkak-sR",
        "colab_type": "text"
      },
      "source": [
        "Zip Coordinates"
      ]
    },
    {
      "cell_type": "code",
      "metadata": {
        "id": "jhSpq8bocPhR",
        "colab_type": "code",
        "colab": {
          "base_uri": "https://localhost:8080/",
          "height": 153
        },
        "outputId": "b4069d00-2985-4480-a984-56823eb0caa1"
      },
      "source": [
        "\n",
        "x_coord = [23, 53, 2, -12, 95, 103, 14, -5]\n",
        "y_coord = [677, 233, 405, 433, 905, 376, 432, 445]\n",
        "z_coord = [4, 16, -6, -42, 3, -6, 23, -1]\n",
        "labels = [\"F\", \"J\", \"A\", \"Q\", \"Y\", \"B\", \"W\", \"X\"]\n",
        "\n",
        "points = []\n",
        "for point in zip(labels, x_coord, y_coord, z_coord):\n",
        "    points.append(\"{}: {}, {}, {}\".format(*point))\n",
        "\n",
        "for point in points:\n",
        "    print(point)"
      ],
      "execution_count": 16,
      "outputs": [
        {
          "output_type": "stream",
          "text": [
            "F: 23, 677, 4\n",
            "J: 53, 233, 16\n",
            "A: 2, 405, -6\n",
            "Q: -12, 433, -42\n",
            "Y: 95, 905, 3\n",
            "B: 103, 376, -6\n",
            "W: 14, 432, 23\n",
            "X: -5, 445, -1\n"
          ],
          "name": "stdout"
        }
      ]
    },
    {
      "cell_type": "markdown",
      "metadata": {
        "id": "AwbOnEbJlJ_L",
        "colab_type": "text"
      },
      "source": [
        "Notice here, the tuple was unpacked using * in the format method. This can help make your code cleaner!"
      ]
    },
    {
      "cell_type": "markdown",
      "metadata": {
        "id": "tsJsgbnMlQhU",
        "colab_type": "text"
      },
      "source": [
        "Quiz Solution: Zip Lists to a Dictionary"
      ]
    },
    {
      "cell_type": "code",
      "metadata": {
        "id": "3e0Q6Q2ik6h-",
        "colab_type": "code",
        "colab": {
          "base_uri": "https://localhost:8080/",
          "height": 34
        },
        "outputId": "292bd939-366b-4edb-d3c2-7c35cc74f845"
      },
      "source": [
        "\n",
        "cast_names = [\"Barney\", \"Robin\", \"Ted\", \"Lily\", \"Marshall\"]\n",
        "cast_heights = [72, 68, 72, 66, 76]\n",
        "\n",
        "cast = dict(zip(cast_names, cast_heights))\n",
        "print(cast)"
      ],
      "execution_count": 17,
      "outputs": [
        {
          "output_type": "stream",
          "text": [
            "{'Barney': 72, 'Robin': 68, 'Ted': 72, 'Lily': 66, 'Marshall': 76}\n"
          ],
          "name": "stdout"
        }
      ]
    },
    {
      "cell_type": "markdown",
      "metadata": {
        "id": "TGWn8EfKlgZa",
        "colab_type": "text"
      },
      "source": [
        "Unzip Tuples"
      ]
    },
    {
      "cell_type": "code",
      "metadata": {
        "id": "x7CXIpuLldxU",
        "colab_type": "code",
        "colab": {
          "base_uri": "https://localhost:8080/",
          "height": 51
        },
        "outputId": "57994ce6-75e7-45f7-e237-5f7bd3b49966"
      },
      "source": [
        "cast = ((\"Barney\", 72), (\"Robin\", 68), (\"Ted\", 72), (\"Lily\", 66), (\"Marshall\", 76))\n",
        "\n",
        "names, heights = zip(*cast)\n",
        "print(names)\n",
        "print(heights)"
      ],
      "execution_count": 19,
      "outputs": [
        {
          "output_type": "stream",
          "text": [
            "('Barney', 'Robin', 'Ted', 'Lily', 'Marshall')\n",
            "(72, 68, 72, 66, 76)\n"
          ],
          "name": "stdout"
        }
      ]
    },
    {
      "cell_type": "markdown",
      "metadata": {
        "id": "2Qgm-FQols9g",
        "colab_type": "text"
      },
      "source": [
        "Transpose with Zip"
      ]
    },
    {
      "cell_type": "code",
      "metadata": {
        "id": "Dbix1iaxllCr",
        "colab_type": "code",
        "colab": {
          "base_uri": "https://localhost:8080/",
          "height": 34
        },
        "outputId": "273504c8-0ea5-4a3a-809b-688c6f103d20"
      },
      "source": [
        "data = ((0, 1, 2), (3, 4, 5), (6, 7, 8), (9, 10, 11))\n",
        "\n",
        "data_transpose = tuple(zip(*data))\n",
        "print(data_transpose)"
      ],
      "execution_count": 20,
      "outputs": [
        {
          "output_type": "stream",
          "text": [
            "((0, 3, 6, 9), (1, 4, 7, 10), (2, 5, 8, 11))\n"
          ],
          "name": "stdout"
        }
      ]
    },
    {
      "cell_type": "markdown",
      "metadata": {
        "id": "mkyFLmVVl1mL",
        "colab_type": "text"
      },
      "source": [
        "Enumerate"
      ]
    },
    {
      "cell_type": "code",
      "metadata": {
        "id": "NVL9pePklv0i",
        "colab_type": "code",
        "colab": {
          "base_uri": "https://localhost:8080/",
          "height": 34
        },
        "outputId": "f7aa43c9-b61c-4e70-c38d-b7f335daa822"
      },
      "source": [
        "\n",
        "cast = [\"Barney Stinson\", \"Robin Scherbatsky\", \"Ted Mosby\", \"Lily Aldrin\", \"Marshall Eriksen\"]\n",
        "heights = [72, 68, 72, 66, 76]\n",
        "\n",
        "for i, character in enumerate(cast):\n",
        "    cast[i] = character + \" \" + str(heights[i])\n",
        "\n",
        "print(cast)"
      ],
      "execution_count": 21,
      "outputs": [
        {
          "output_type": "stream",
          "text": [
            "['Barney Stinson 72', 'Robin Scherbatsky 68', 'Ted Mosby 72', 'Lily Aldrin 66', 'Marshall Eriksen 76']\n"
          ],
          "name": "stdout"
        }
      ]
    },
    {
      "cell_type": "code",
      "metadata": {
        "id": "4Ks6QtH8l04u",
        "colab_type": "code",
        "colab": {}
      },
      "source": [
        ""
      ],
      "execution_count": 0,
      "outputs": []
    },
    {
      "cell_type": "code",
      "metadata": {
        "id": "KhW7RvbYo3kC",
        "colab_type": "code",
        "colab": {}
      },
      "source": [
        ""
      ],
      "execution_count": 0,
      "outputs": []
    }
  ]
}