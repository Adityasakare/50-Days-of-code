{
  "nbformat": 4,
  "nbformat_minor": 0,
  "metadata": {
    "colab": {
      "name": "Condition Statements.ipynb",
      "provenance": []
    },
    "kernelspec": {
      "name": "python3",
      "display_name": "Python 3"
    }
  },
  "cells": [
    {
      "cell_type": "markdown",
      "metadata": {
        "id": "B-_SeNHwesex",
        "colab_type": "text"
      },
      "source": [
        "##If Statement\n",
        "An if statement is a conditional statement that runs or skips code based on whether a condition is true or false. Here's a simple example."
      ]
    },
    {
      "cell_type": "code",
      "metadata": {
        "id": "S1Kwn6RKdxYD",
        "colab_type": "code",
        "colab": {
          "base_uri": "https://localhost:8080/",
          "height": 34
        },
        "outputId": "5482f9d9-5313-49c4-996c-324ac0e19c38"
      },
      "source": [
        "phone_balance = 8\n",
        "bank_balance = 100\n",
        "if phone_balance < 5:\n",
        "  phone_balance += 10\n",
        "  bank_balance -= 10\n",
        "print(phone_balance , bank_balance)\n"
      ],
      "execution_count": 2,
      "outputs": [
        {
          "output_type": "stream",
          "text": [
            "8 100\n"
          ],
          "name": "stdout"
        }
      ]
    },
    {
      "cell_type": "markdown",
      "metadata": {
        "id": "r0vOhFibe7nM",
        "colab_type": "text"
      },
      "source": [
        "##If, Elif, Else\n",
        "In addition to the if clause, there are two other optional clauses often used with an if statement. For example:"
      ]
    },
    {
      "cell_type": "code",
      "metadata": {
        "id": "Xwnn0ADmej_G",
        "colab_type": "code",
        "colab": {
          "base_uri": "https://localhost:8080/",
          "height": 34
        },
        "outputId": "0efb2fee-f26a-4e9d-c903-461bde6faf2e"
      },
      "source": [
        "season = \"\"\n",
        "if season == \"summer\":\n",
        "  print(\"The season is\", season)\n",
        "elif season == \"winter\":\n",
        "  print(\"The season is\", season)\n",
        "else:\n",
        "  print(\"Unpredictable season\")"
      ],
      "execution_count": 5,
      "outputs": [
        {
          "output_type": "stream",
          "text": [
            "Unpredictable season\n"
          ],
          "name": "stdout"
        }
      ]
    },
    {
      "cell_type": "code",
      "metadata": {
        "id": "R4yQAeHufeOt",
        "colab_type": "code",
        "colab": {
          "base_uri": "https://localhost:8080/",
          "height": 34
        },
        "outputId": "5b278b8e-289c-4668-b081-270c04595965"
      },
      "source": [
        "points = 180\n",
        "if points > 150:\n",
        "  print(\"Congo\")\n",
        "else:\n",
        "  print(\"no prize\")"
      ],
      "execution_count": 11,
      "outputs": [
        {
          "output_type": "stream",
          "text": [
            "Congo\n"
          ],
          "name": "stdout"
        }
      ]
    },
    {
      "cell_type": "code",
      "metadata": {
        "id": "xS_oJQftpJMc",
        "colab_type": "code",
        "colab": {
          "base_uri": "https://localhost:8080/",
          "height": 34
        },
        "outputId": "e9195c2a-da64-41fa-c6f4-e1970b0d24db"
      },
      "source": [
        "points = 174\n",
        "\n",
        "if points <= 50:\n",
        "    result = \"Congratulations! You won a wooden rabbit!\"\n",
        "elif points <= 150:\n",
        "    result = \"Oh dear, no prize this time.\"\n",
        "elif points <= 180:\n",
        "    result = \"Congratulations! You won a wafer-thin mint!\"\n",
        "else:\n",
        "    result = \"Congratulations! You won a penguin!\"\n",
        "\n",
        "print(result)"
      ],
      "execution_count": 12,
      "outputs": [
        {
          "output_type": "stream",
          "text": [
            "Congratulations! You won a wafer-thin mint!\n"
          ],
          "name": "stdout"
        }
      ]
    },
    {
      "cell_type": "code",
      "metadata": {
        "id": "ZO7396EbqNkk",
        "colab_type": "code",
        "colab": {
          "base_uri": "https://localhost:8080/",
          "height": 34
        },
        "outputId": "eb8084b2-fc1a-40d2-e2c1-a725b623520a"
      },
      "source": [
        "# '''\n",
        "# You decide you want to play a game where you are hiding \n",
        "# a number from someone.  Store this number in a variable \n",
        "# called 'answer'.  Another user provides a number called\n",
        "# 'guess'.  By comparing guess to answer, you inform the user\n",
        "# if their guess is too high or too low.\n",
        "\n",
        "# Fill in the conditionals below to inform the user about how\n",
        "# their guess compares to the answer.\n",
        "# '''\n",
        "answer = 20\n",
        "guess = 20\n",
        "\n",
        "if guess < answer:\n",
        "    result = \"Oops!  Your guess was too low.\"\n",
        "elif guess > answer:\n",
        "    result = \"Oops!  Your guess was too high.\"\n",
        "elif guess == answer:\n",
        "    result = \"Nice!  Your guess matched the answer!\"\n",
        "\n",
        "print(result)"
      ],
      "execution_count": 13,
      "outputs": [
        {
          "output_type": "stream",
          "text": [
            "Nice!  Your guess matched the answer!\n"
          ],
          "name": "stdout"
        }
      ]
    },
    {
      "cell_type": "code",
      "metadata": {
        "id": "Tz6D2bdKrLQP",
        "colab_type": "code",
        "colab": {
          "base_uri": "https://localhost:8080/",
          "height": 34
        },
        "outputId": "0efd0b72-5e56-4409-a2d2-49dab0664902"
      },
      "source": [
        "# '''\n",
        "# Depending on where an individual is from we need to tax them \n",
        "# appropriately.  The states of CA, MN, and \n",
        "# NY have taxes of 7.5%, 9.5%, and 8.9% respectively.\n",
        "# Use this information to take the amount of a purchase and \n",
        "# the corresponding state to assure that they are taxed by the right\n",
        "# amount.\n",
        "# '''\n",
        "state = \"NY\"\n",
        "purchase_amount = 50\n",
        "\n",
        "if  state == \"CA\": #provide conditional for checking state is CA\n",
        "    tax_amount = .075\n",
        "    total_cost = purchase_amount*(1+tax_amount)\n",
        "    result = \"Since you're from {}, your total cost is {}.\".format(state, total_cost)\n",
        "\n",
        "elif state == \"MN\": #provide conditional for checking state is MN\n",
        "    tax_amount = .095\n",
        "    total_cost = purchase_amount*(1+tax_amount)\n",
        "    result = \"Since you're from {}, your total cost is {}.\".format(state, total_cost)\n",
        "\n",
        "elif state == \"NY\": #provide conditional for checking state is NY\n",
        "    tax_amount = .089\n",
        "    total_cost = purchase_amount*(1+tax_amount)\n",
        "    result = \"Since you're from {}, your total cost is {}.\".format(state, total_cost)\n",
        "\n",
        "print(result)"
      ],
      "execution_count": 14,
      "outputs": [
        {
          "output_type": "stream",
          "text": [
            "Since you're from NY, your total cost is 54.449999999999996.\n"
          ],
          "name": "stdout"
        }
      ]
    },
    {
      "cell_type": "code",
      "metadata": {
        "id": "BgEYFd8KsAog",
        "colab_type": "code",
        "colab": {
          "base_uri": "https://localhost:8080/",
          "height": 34
        },
        "outputId": "c2259d00-ab92-4136-96e1-bedf521c4b83"
      },
      "source": [
        "is_cold = True\n",
        "if is_cold:\n",
        "  print(\"cold\")\n",
        "else:\n",
        "  print(\"not cold\")\n",
        "  "
      ],
      "execution_count": 22,
      "outputs": [
        {
          "output_type": "stream",
          "text": [
            "cold\n"
          ],
          "name": "stdout"
        }
      ]
    },
    {
      "cell_type": "code",
      "metadata": {
        "id": "siliBnPutVyr",
        "colab_type": "code",
        "colab": {
          "base_uri": "https://localhost:8080/",
          "height": 34
        },
        "outputId": "640ef864-af61-4fb4-c855-194b77c0cbc3"
      },
      "source": [
        "altitude = 10000\n",
        "speed = 250\n",
        "propulsion = \"Propeller\"\n",
        "if altitude < 1000 and speed > 100:\n",
        "  print(\"ok\")\n",
        "else:\n",
        "  print(\"0\")\n",
        "\n"
      ],
      "execution_count": 23,
      "outputs": [
        {
          "output_type": "stream",
          "text": [
            "0\n"
          ],
          "name": "stdout"
        }
      ]
    },
    {
      "cell_type": "code",
      "metadata": {
        "id": "gYGaE88Nu2Va",
        "colab_type": "code",
        "colab": {}
      },
      "source": [
        ""
      ],
      "execution_count": 0,
      "outputs": []
    }
  ]
}