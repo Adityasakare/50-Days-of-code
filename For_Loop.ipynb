{
  "nbformat": 4,
  "nbformat_minor": 0,
  "metadata": {
    "colab": {
      "name": "For Loop.ipynb",
      "provenance": []
    },
    "kernelspec": {
      "name": "python3",
      "display_name": "Python 3"
    }
  },
  "cells": [
    {
      "cell_type": "markdown",
      "metadata": {
        "id": "2uV9JM6Tn3Lc",
        "colab_type": "text"
      },
      "source": [
        "####Method 1: Using a `for` loop to create a set of counters\n"
      ]
    },
    {
      "cell_type": "code",
      "metadata": {
        "id": "l0PNQPAGlSbz",
        "colab_type": "code",
        "colab": {}
      },
      "source": [
        "book_title =  ['great', 'expectations','the', 'adventures', 'of', 'sherlock','holmes','the','great','gasby','hamlet','adventures','of','huckleberry','fin']\n"
      ],
      "execution_count": 0,
      "outputs": []
    },
    {
      "cell_type": "code",
      "metadata": {
        "id": "pJvZkVP2l7cU",
        "colab_type": "code",
        "colab": {}
      },
      "source": [
        "word_counter = {}"
      ],
      "execution_count": 0,
      "outputs": []
    },
    {
      "cell_type": "code",
      "metadata": {
        "id": "MHJpydx9l-Pp",
        "colab_type": "code",
        "colab": {}
      },
      "source": [
        "for word in book_title:\n",
        "  if word not in word_counter:\n",
        "    word_counter[word] =1\n",
        "  else:\n",
        "      word_counter[word]+= 1"
      ],
      "execution_count": 0,
      "outputs": []
    },
    {
      "cell_type": "code",
      "metadata": {
        "id": "L0bgdmq4myUS",
        "colab_type": "code",
        "colab": {
          "base_uri": "https://localhost:8080/",
          "height": 204
        },
        "outputId": "8ed61d70-a9ab-4c94-e064-d19d5bcd5e76"
      },
      "source": [
        "word_counter"
      ],
      "execution_count": 5,
      "outputs": [
        {
          "output_type": "execute_result",
          "data": {
            "text/plain": [
              "{'adventures': 2,\n",
              " 'expectations': 1,\n",
              " 'fin': 1,\n",
              " 'gasby': 1,\n",
              " 'great': 2,\n",
              " 'hamlet': 1,\n",
              " 'holmes': 1,\n",
              " 'huckleberry': 1,\n",
              " 'of': 2,\n",
              " 'sherlock': 1,\n",
              " 'the': 2}"
            ]
          },
          "metadata": {
            "tags": []
          },
          "execution_count": 5
        }
      ]
    },
    {
      "cell_type": "markdown",
      "metadata": {
        "id": "sgo6jdTOoEGi",
        "colab_type": "text"
      },
      "source": [
        "#####Method 2: Using the `get` method\n"
      ]
    },
    {
      "cell_type": "code",
      "metadata": {
        "id": "dw20N22kn_ph",
        "colab_type": "code",
        "colab": {}
      },
      "source": [
        "book_title =  ['great', 'expectations','the', 'adventures', 'of', 'sherlock','holmes','the','great','gasby','hamlet','adventures','of','huckleberry','fin']\n"
      ],
      "execution_count": 0,
      "outputs": []
    },
    {
      "cell_type": "code",
      "metadata": {
        "id": "756kuy_3nqAI",
        "colab_type": "code",
        "colab": {}
      },
      "source": [
        "word_counter = {}"
      ],
      "execution_count": 0,
      "outputs": []
    },
    {
      "cell_type": "code",
      "metadata": {
        "id": "2OjSMPqcoTco",
        "colab_type": "code",
        "colab": {}
      },
      "source": [
        "for word in book_title:\n",
        "    word_counter[word] = word_counter.get(word, 0) + 1"
      ],
      "execution_count": 0,
      "outputs": []
    },
    {
      "cell_type": "code",
      "metadata": {
        "id": "_2uk8se7okyq",
        "colab_type": "code",
        "colab": {
          "base_uri": "https://localhost:8080/",
          "height": 204
        },
        "outputId": "449fa316-c27d-436c-941f-ea47f610da49"
      },
      "source": [
        "word_counter"
      ],
      "execution_count": 14,
      "outputs": [
        {
          "output_type": "execute_result",
          "data": {
            "text/plain": [
              "{'adventures': 2,\n",
              " 'expectations': 1,\n",
              " 'fin': 1,\n",
              " 'gasby': 1,\n",
              " 'great': 2,\n",
              " 'hamlet': 1,\n",
              " 'holmes': 1,\n",
              " 'huckleberry': 1,\n",
              " 'of': 2,\n",
              " 'sherlock': 1,\n",
              " 'the': 2}"
            ]
          },
          "metadata": {
            "tags": []
          },
          "execution_count": 14
        }
      ]
    },
    {
      "cell_type": "code",
      "metadata": {
        "id": "laW5HS-8pQtR",
        "colab_type": "code",
        "colab": {}
      },
      "source": [
        "cast = {\n",
        "           \"Jerry Seinfeld\": \"Jerry Seinfeld\",\n",
        "           \"Julia Louis-Dreyfus\": \"Elaine Benes\",\n",
        "           \"Jason Alexander\": \"George Costanza\",\n",
        "           \"Michael Richards\": \"Cosmo Kramer\"\n",
        "       }"
      ],
      "execution_count": 0,
      "outputs": []
    },
    {
      "cell_type": "code",
      "metadata": {
        "id": "o9t-9twjsQYM",
        "colab_type": "code",
        "colab": {
          "base_uri": "https://localhost:8080/",
          "height": 85
        },
        "outputId": "018173bf-6fb3-4630-bdd2-01b1e9e2e0eb"
      },
      "source": [
        "for key in cast:\n",
        "  print(key)"
      ],
      "execution_count": 16,
      "outputs": [
        {
          "output_type": "stream",
          "text": [
            "Jerry Seinfeld\n",
            "Julia Louis-Dreyfus\n",
            "Jason Alexander\n",
            "Michael Richards\n"
          ],
          "name": "stdout"
        }
      ]
    },
    {
      "cell_type": "markdown",
      "metadata": {
        "id": "TZYSc8W6siOp",
        "colab_type": "text"
      },
      "source": [
        "If you wish to iterate through both keys and values, you can use the built-in method `items` like this:\n",
        "\n"
      ]
    },
    {
      "cell_type": "code",
      "metadata": {
        "id": "YmMysL5CsgNj",
        "colab_type": "code",
        "colab": {
          "base_uri": "https://localhost:8080/",
          "height": 85
        },
        "outputId": "23ef78b3-3500-4048-e1f4-cc6dea3f35a6"
      },
      "source": [
        "for key, value in cast.items():\n",
        "  print (\"Actor : {}, Role: {}\" .format(key, value))"
      ],
      "execution_count": 18,
      "outputs": [
        {
          "output_type": "stream",
          "text": [
            "Actor : Jerry Seinfeld, Role: Jerry Seinfeld\n",
            "Actor : Julia Louis-Dreyfus, Role: Elaine Benes\n",
            "Actor : Jason Alexander, Role: George Costanza\n",
            "Actor : Michael Richards, Role: Cosmo Kramer\n"
          ],
          "name": "stdout"
        }
      ]
    },
    {
      "cell_type": "code",
      "metadata": {
        "id": "MncGaxOcsWwU",
        "colab_type": "code",
        "colab": {}
      },
      "source": [
        "result = 0\n",
        "basket_items = {'apples': 4, 'oranges': 19, 'kites': 3, 'sandwiches': 8}\n",
        "fruits = ['apples', 'oranges', 'pears', 'peaches', 'grapes', 'bananas']"
      ],
      "execution_count": 0,
      "outputs": []
    },
    {
      "cell_type": "code",
      "metadata": {
        "id": "7bf1nHOWDtmW",
        "colab_type": "code",
        "colab": {}
      },
      "source": [
        "for object , count in basket_items.items():\n",
        "  if object in fruits:\n",
        "    result+= count"
      ],
      "execution_count": 0,
      "outputs": []
    },
    {
      "cell_type": "code",
      "metadata": {
        "id": "GeJSMR6pD_wi",
        "colab_type": "code",
        "colab": {
          "base_uri": "https://localhost:8080/",
          "height": 34
        },
        "outputId": "2963afa0-cf20-4e30-8b6d-d8974353d950"
      },
      "source": [
        "print(\"The Number of fruits presnt in basket are {}\".format(result))"
      ],
      "execution_count": 23,
      "outputs": [
        {
          "output_type": "stream",
          "text": [
            "The Number of fruits presnt in basket are 23\n"
          ],
          "name": "stdout"
        }
      ]
    },
    {
      "cell_type": "code",
      "metadata": {
        "id": "eMGgO_IbEQyO",
        "colab_type": "code",
        "colab": {}
      },
      "source": [
        ""
      ],
      "execution_count": 0,
      "outputs": []
    }
  ]
}